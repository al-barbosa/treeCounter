{
 "cells": [
  {
   "cell_type": "code",
   "execution_count": 82,
   "id": "bb29fc49-3a1c-4853-9db0-065022851978",
   "metadata": {},
   "outputs": [],
   "source": [
    "import requests\n",
    "import polyline\n",
    "from api_key import API_KEY\n",
    "import json\n",
    "import math"
   ]
  },
  {
   "cell_type": "code",
   "execution_count": 90,
   "id": "2e1eab4e-4eeb-483b-9162-b125af9568b8",
   "metadata": {},
   "outputs": [],
   "source": [
    "def street_to_coordinates(street, town, api_key):\n",
    "    base_url = 'https://maps.googleapis.com/maps/api/directions/json'\n",
    "    params = {\n",
    "        'origin': f'{street}, {town}',\n",
    "        'destination': f'{street}, {town}',\n",
    "        'key': api_key\n",
    "    }\n",
    "    \n",
    "    response = requests.get(base_url, params=params)\n",
    "    \n",
    "    if response.status_code == 200:\n",
    "        data = response.json()\n",
    "        if data['status'] == 'OK':\n",
    "            pline = data['routes'][0]['overview_polyline']['points']\n",
    "            return polyline.decode(pline)\n",
    "        else:\n",
    "            print('Error: API status:', data['status'])\n",
    "            return None\n",
    "    else:\n",
    "        print('Error: HTTP status code', response.status_code)\n",
    "        return None"
   ]
  },
  {
   "cell_type": "code",
   "execution_count": 76,
   "id": "504e07e6-d095-4a04-91ac-4214e2e9646c",
   "metadata": {},
   "outputs": [],
   "source": [
    "def get_street_metadata(lat, lng, heading, api_key):\n",
    "    base_url = 'https://maps.googleapis.com/maps/api/streetview/metadata'\n",
    "    params = {\n",
    "        'location': f'{lat},{lng}',\n",
    "        'heading': heading,\n",
    "        'key': api_key\n",
    "    }\n",
    "    \n",
    "    response = requests.get(base_url, params=params)\n",
    "    \n",
    "    if response.status_code == 200:\n",
    "        data = response.json()\n",
    "        if data['status'] == 'OK':\n",
    "            return data\n",
    "        else:\n",
    "            print('Error: API status:', data['status'])\n",
    "            return None\n",
    "    else:\n",
    "        print('Error: HTTP status code', response.status_code)\n",
    "        return None"
   ]
  },
  {
   "cell_type": "code",
   "execution_count": 91,
   "id": "1adafab0-2d37-48df-b0ec-1b3ed9f60a0d",
   "metadata": {},
   "outputs": [
    {
     "data": {
      "text/plain": [
       "[(-16.73002, -43.88653)]"
      ]
     },
     "execution_count": 91,
     "metadata": {},
     "output_type": "execute_result"
    }
   ],
   "source": [
    "street_to_coordinates('Pedro Alvares Cabral', 'Montes Claros', API_KEY)"
   ]
  },
  {
   "cell_type": "code",
   "execution_count": null,
   "id": "46a126e8-2795-4030-9f3e-b711458bee05",
   "metadata": {},
   "outputs": [],
   "source": []
  }
 ],
 "metadata": {
  "kernelspec": {
   "display_name": "Python 3 (ipykernel)",
   "language": "python",
   "name": "python3"
  },
  "language_info": {
   "codemirror_mode": {
    "name": "ipython",
    "version": 3
   },
   "file_extension": ".py",
   "mimetype": "text/x-python",
   "name": "python",
   "nbconvert_exporter": "python",
   "pygments_lexer": "ipython3",
   "version": "3.9.13"
  }
 },
 "nbformat": 4,
 "nbformat_minor": 5
}
