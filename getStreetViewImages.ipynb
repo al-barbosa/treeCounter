{
 "cells": [
  {
   "cell_type": "code",
   "execution_count": 115,
   "id": "ba8fa40a-34fd-431e-adf3-1f4a8a6201e5",
   "metadata": {},
   "outputs": [],
   "source": [
    "import os\n",
    "import requests\n",
    "import time\n",
    "from io import BytesIO\n",
    "from PIL import Image\n",
    "from api_key import API_KEY"
   ]
  },
  {
   "cell_type": "code",
   "execution_count": 108,
   "id": "57b88184-99d5-42cc-b49d-7f2d6585f57f",
   "metadata": {},
   "outputs": [],
   "source": [
    "def get_images(street_name, street_number, town_name, file_name, output_directory='images', size='600x400', fov=120, api_key=API_KEY, angles=[0, 90, 180, 270]):\n",
    "    if not os.path.exists(output_directory):\n",
    "        os.makedirs(output_directory)\n",
    "    \n",
    "    geocoding_url = f'https://maps.googleapis.com/maps/api/geocode/json?address={street_name} {street_number},{town_name}&key={api_key}'\n",
    "    response = requests.get(geocoding_url)\n",
    "    json_data = response.json()\n",
    "    location = json_data['results'][0]['geometry']['location']\n",
    "    lat, lng = location['lat'], location['lng']\n",
    "    \n",
    "    base_url = 'https://maps.googleapis.com/maps/api/streetview'\n",
    "    \n",
    "    for angle in angles:\n",
    "        params = {\n",
    "            'size': size,\n",
    "            'location': f'{lat},{lng}',\n",
    "            'fov': fov,\n",
    "            'heading': angle,\n",
    "            'key': api_key\n",
    "        }\n",
    "        response = requests.get(base_url, params=params)\n",
    "        \n",
    "        if response.status_code == 200:\n",
    "            image = Image.open(BytesIO(response.content))\n",
    "            output_file = os.path.join(output_directory, f'{file_name}_{angle}.jpg')\n",
    "            image.save(output_file)\n",
    "            print(f'Image saved as: {output_file}')\n",
    "            if angle\n",
    "        else:\n",
    "            print(f'Error retrieving angle {angle}. Status {response.status_code}')\n"
   ]
  },
  {
   "cell_type": "code",
   "execution_count": 95,
   "id": "314f9233-4359-41d5-800b-181cedcb04cd",
   "metadata": {},
   "outputs": [
    {
     "name": "stdout",
     "output_type": "stream",
     "text": [
      "<PIL.JpegImagePlugin.JpegImageFile image mode=RGB size=600x400 at 0x7F73E976E700>\n",
      "Image saved as: images/Rua Pedro Alvares Cabral_0.jpg\n",
      "<PIL.JpegImagePlugin.JpegImageFile image mode=RGB size=600x400 at 0x7F73EA23B280>\n",
      "Image saved as: images/Rua Pedro Alvares Cabral_90.jpg\n",
      "<PIL.JpegImagePlugin.JpegImageFile image mode=RGB size=600x400 at 0x7F74081FE580>\n",
      "Image saved as: images/Rua Pedro Alvares Cabral_180.jpg\n",
      "<PIL.JpegImagePlugin.JpegImageFile image mode=RGB size=600x400 at 0x7F73EA14C0A0>\n",
      "Image saved as: images/Rua Pedro Alvares Cabral_270.jpg\n"
     ]
    }
   ],
   "source": [
    "get_images('Rua Pedro Alvares Cabral', '800', 'Montes Claros')"
   ]
  },
  {
   "cell_type": "code",
   "execution_count": 122,
   "id": "5b597da9-8472-42c1-a6cd-9385c0163d1d",
   "metadata": {},
   "outputs": [],
   "source": [
    "def loop_get_images(street_name, town_name):\n",
    "    street_number = 1\n",
    "    prev_image = None\n",
    "    \n",
    "    while True:\n",
    "        # Call the get_images function with current street number and file name\n",
    "        file_name = f'{street_name}_{street_number}'\n",
    "        get_images(street_name, street_number, town_name, file_name)\n",
    "        \n",
    "        # Check if the image of the first angle has changed from the previous iteration\n",
    "        image_file = f\"{file_name}_0.jpg\"\n",
    "        image_path = os.path.join(\"images\", image_file)\n",
    "        current_image = Image.open(image_path)\n",
    "        \n",
    "        if prev_image is not None and current_image.tobytes() == prev_image.tobytes():\n",
    "            # Exit the loop if the image is the same as before\n",
    "            break\n",
    "        \n",
    "        prev_image = current_image\n",
    "        \n",
    "        # Increment the street number by 50 for the next iteration\n",
    "        time.sleep(5)\n",
    "        street_number += 100\n"
   ]
  },
  {
   "cell_type": "code",
   "execution_count": 123,
   "id": "32e535d8-0ea5-43b4-b401-f679a806dc22",
   "metadata": {},
   "outputs": [
    {
     "name": "stdout",
     "output_type": "stream",
     "text": [
      "<PIL.JpegImagePlugin.JpegImageFile image mode=RGB size=600x400 at 0x7F73E9F86D90>\n",
      "Image saved as: Rua Pedro Alvares Cabral_1/Rua Pedro Alvares Cabral_1_0.jpg\n",
      "<PIL.JpegImagePlugin.JpegImageFile image mode=RGB size=600x400 at 0x7F73E9F86D90>\n",
      "Image saved as: Rua Pedro Alvares Cabral_1/Rua Pedro Alvares Cabral_1_90.jpg\n",
      "<PIL.JpegImagePlugin.JpegImageFile image mode=RGB size=600x400 at 0x7F73E9F8A370>\n",
      "Image saved as: Rua Pedro Alvares Cabral_1/Rua Pedro Alvares Cabral_1_180.jpg\n",
      "<PIL.JpegImagePlugin.JpegImageFile image mode=RGB size=600x400 at 0x7F73E9F862E0>\n",
      "Image saved as: Rua Pedro Alvares Cabral_1/Rua Pedro Alvares Cabral_1_270.jpg\n",
      "<PIL.JpegImagePlugin.JpegImageFile image mode=RGB size=600x400 at 0x7F73E9F86880>\n",
      "Image saved as: Rua Pedro Alvares Cabral_101/Rua Pedro Alvares Cabral_101_0.jpg\n",
      "<PIL.JpegImagePlugin.JpegImageFile image mode=RGB size=600x400 at 0x7F73E9F8AFA0>\n",
      "Image saved as: Rua Pedro Alvares Cabral_101/Rua Pedro Alvares Cabral_101_90.jpg\n",
      "<PIL.JpegImagePlugin.JpegImageFile image mode=RGB size=600x400 at 0x7F73E9C4C070>\n",
      "Image saved as: Rua Pedro Alvares Cabral_101/Rua Pedro Alvares Cabral_101_180.jpg\n",
      "<PIL.JpegImagePlugin.JpegImageFile image mode=RGB size=600x400 at 0x7F73E9F8A940>\n",
      "Image saved as: Rua Pedro Alvares Cabral_101/Rua Pedro Alvares Cabral_101_270.jpg\n"
     ]
    },
    {
     "ename": "FileNotFoundError",
     "evalue": "[Errno 2] No such file or directory: 'images/Rua Pedro Alvares Cabral_101_0.jpg'",
     "output_type": "error",
     "traceback": [
      "\u001b[0;31m---------------------------------------------------------------------------\u001b[0m",
      "\u001b[0;31mFileNotFoundError\u001b[0m                         Traceback (most recent call last)",
      "\u001b[0;32m/tmp/ipykernel_49477/2657788134.py\u001b[0m in \u001b[0;36m<module>\u001b[0;34m\u001b[0m\n\u001b[0;32m----> 1\u001b[0;31m \u001b[0mloop_get_images\u001b[0m\u001b[0;34m(\u001b[0m\u001b[0;34m'Rua Pedro Alvares Cabral'\u001b[0m\u001b[0;34m,\u001b[0m \u001b[0;34m'Montes Claros'\u001b[0m\u001b[0;34m)\u001b[0m\u001b[0;34m\u001b[0m\u001b[0;34m\u001b[0m\u001b[0m\n\u001b[0m",
      "\u001b[0;32m/tmp/ipykernel_49477/4204836767.py\u001b[0m in \u001b[0;36mloop_get_images\u001b[0;34m(street_name, town_name)\u001b[0m\n\u001b[1;32m     11\u001b[0m         \u001b[0mimage_file\u001b[0m \u001b[0;34m=\u001b[0m \u001b[0;34mf\"{file_name}_0.jpg\"\u001b[0m\u001b[0;34m\u001b[0m\u001b[0;34m\u001b[0m\u001b[0m\n\u001b[1;32m     12\u001b[0m         \u001b[0mimage_path\u001b[0m \u001b[0;34m=\u001b[0m \u001b[0mos\u001b[0m\u001b[0;34m.\u001b[0m\u001b[0mpath\u001b[0m\u001b[0;34m.\u001b[0m\u001b[0mjoin\u001b[0m\u001b[0;34m(\u001b[0m\u001b[0;34m\"images\"\u001b[0m\u001b[0;34m,\u001b[0m \u001b[0mimage_file\u001b[0m\u001b[0;34m)\u001b[0m\u001b[0;34m\u001b[0m\u001b[0;34m\u001b[0m\u001b[0m\n\u001b[0;32m---> 13\u001b[0;31m         \u001b[0mcurrent_image\u001b[0m \u001b[0;34m=\u001b[0m \u001b[0mImage\u001b[0m\u001b[0;34m.\u001b[0m\u001b[0mopen\u001b[0m\u001b[0;34m(\u001b[0m\u001b[0mimage_path\u001b[0m\u001b[0;34m)\u001b[0m\u001b[0;34m\u001b[0m\u001b[0;34m\u001b[0m\u001b[0m\n\u001b[0m\u001b[1;32m     14\u001b[0m \u001b[0;34m\u001b[0m\u001b[0m\n\u001b[1;32m     15\u001b[0m         \u001b[0;32mif\u001b[0m \u001b[0mprev_image\u001b[0m \u001b[0;32mis\u001b[0m \u001b[0;32mnot\u001b[0m \u001b[0;32mNone\u001b[0m \u001b[0;32mand\u001b[0m \u001b[0mcurrent_image\u001b[0m\u001b[0;34m.\u001b[0m\u001b[0mtobytes\u001b[0m\u001b[0;34m(\u001b[0m\u001b[0;34m)\u001b[0m \u001b[0;34m==\u001b[0m \u001b[0mprev_image\u001b[0m\u001b[0;34m.\u001b[0m\u001b[0mtobytes\u001b[0m\u001b[0;34m(\u001b[0m\u001b[0;34m)\u001b[0m\u001b[0;34m:\u001b[0m\u001b[0;34m\u001b[0m\u001b[0;34m\u001b[0m\u001b[0m\n",
      "\u001b[0;32m~/anaconda3/lib/python3.9/site-packages/PIL/Image.py\u001b[0m in \u001b[0;36mopen\u001b[0;34m(fp, mode, formats)\u001b[0m\n\u001b[1;32m   3090\u001b[0m \u001b[0;34m\u001b[0m\u001b[0m\n\u001b[1;32m   3091\u001b[0m     \u001b[0;32mif\u001b[0m \u001b[0mfilename\u001b[0m\u001b[0;34m:\u001b[0m\u001b[0;34m\u001b[0m\u001b[0;34m\u001b[0m\u001b[0m\n\u001b[0;32m-> 3092\u001b[0;31m         \u001b[0mfp\u001b[0m \u001b[0;34m=\u001b[0m \u001b[0mbuiltins\u001b[0m\u001b[0;34m.\u001b[0m\u001b[0mopen\u001b[0m\u001b[0;34m(\u001b[0m\u001b[0mfilename\u001b[0m\u001b[0;34m,\u001b[0m \u001b[0;34m\"rb\"\u001b[0m\u001b[0;34m)\u001b[0m\u001b[0;34m\u001b[0m\u001b[0;34m\u001b[0m\u001b[0m\n\u001b[0m\u001b[1;32m   3093\u001b[0m         \u001b[0mexclusive_fp\u001b[0m \u001b[0;34m=\u001b[0m \u001b[0;32mTrue\u001b[0m\u001b[0;34m\u001b[0m\u001b[0;34m\u001b[0m\u001b[0m\n\u001b[1;32m   3094\u001b[0m \u001b[0;34m\u001b[0m\u001b[0m\n",
      "\u001b[0;31mFileNotFoundError\u001b[0m: [Errno 2] No such file or directory: 'images/Rua Pedro Alvares Cabral_101_0.jpg'"
     ]
    }
   ],
   "source": [
    "loop_get_images('Rua Pedro Alvares Cabral', 'Montes Claros')"
   ]
  },
  {
   "cell_type": "code",
   "execution_count": 136,
   "id": "b93e70ca-63d2-4ccc-ad2b-a04d61fbb54a",
   "metadata": {},
   "outputs": [],
   "source": [
    "def get_images(street_name, town_name, output_directory='images', size='600x400', fov=120, api_key=API_KEY, angles=[0, 90, 180, 270]):\n",
    "    if not os.path.exists(output_directory):\n",
    "        os.makedirs(output_directory)\n",
    "    \n",
    "    # Set initial values for previous_image\n",
    "    previous_image = None\n",
    "    current_image = 1\n",
    "    \n",
    "    # Start street number at 1\n",
    "    street_number = 50\n",
    "    \n",
    "    while current_image != previous_image:\n",
    "        # Construct geocoding URL with current street number\n",
    "        geocoding_url = f'https://maps.googleapis.com/maps/api/geocode/json?address={street_name} {street_number},{town_name}&key={api_key}'\n",
    "        response = requests.get(geocoding_url)\n",
    "        json_data = response.json()\n",
    "        location = json_data['results'][0]['geometry']['location']\n",
    "        lat, lng = location['lat'], location['lng']\n",
    "\n",
    "        base_url = 'https://maps.googleapis.com/maps/api/streetview'\n",
    "\n",
    "        for angle in angles:\n",
    "            params = {\n",
    "                'size': size,\n",
    "                'location': f'{lat},{lng}',\n",
    "                'fov': fov,\n",
    "                'heading': angle,\n",
    "                'key': api_key,\n",
    "                'source': 'outdoor'\n",
    "            }\n",
    "            response = requests.get(base_url, params=params)\n",
    "\n",
    "            if response.status_code == 200:\n",
    "                image = Image.open(BytesIO(response.content))\n",
    "                output_file = os.path.join(output_directory, f'{street_name}_{angle}_{street_number}.jpg')\n",
    "                image.save(output_file)\n",
    "                print(f'Image saved as: {output_file}')\n",
    "                \n",
    "                # Update previous and current images\n",
    "                if angle == 0:\n",
    "                    previous_image = current_image\n",
    "                    current_image = image\n",
    "                \n",
    "            else:\n",
    "                print(f'Error retrieving angle {angle}. Status {response.status_code}')\n",
    "\n",
    "        # Increment street number by 50\n",
    "        street_number += 100\n"
   ]
  },
  {
   "cell_type": "code",
   "execution_count": null,
   "id": "0b331b84-2f7e-4bda-ac32-bfa50804fb1c",
   "metadata": {},
   "outputs": [
    {
     "name": "stdout",
     "output_type": "stream",
     "text": [
      "Image saved as: images/Rua Pedro Alvares Cabral_0_50.jpg\n",
      "Image saved as: images/Rua Pedro Alvares Cabral_90_50.jpg\n",
      "Image saved as: images/Rua Pedro Alvares Cabral_180_50.jpg\n",
      "Image saved as: images/Rua Pedro Alvares Cabral_270_50.jpg\n",
      "Image saved as: images/Rua Pedro Alvares Cabral_0_150.jpg\n"
     ]
    }
   ],
   "source": [
    "get_images('Rua Pedro Alvares Cabral', 'Montes Claros')"
   ]
  },
  {
   "cell_type": "code",
   "execution_count": null,
   "id": "5f0b35e5-cd6f-4a58-851f-811b18aad6a5",
   "metadata": {},
   "outputs": [],
   "source": []
  }
 ],
 "metadata": {
  "kernelspec": {
   "display_name": "Python 3 (ipykernel)",
   "language": "python",
   "name": "python3"
  },
  "language_info": {
   "codemirror_mode": {
    "name": "ipython",
    "version": 3
   },
   "file_extension": ".py",
   "mimetype": "text/x-python",
   "name": "python",
   "nbconvert_exporter": "python",
   "pygments_lexer": "ipython3",
   "version": "3.9.13"
  }
 },
 "nbformat": 4,
 "nbformat_minor": 5
}
