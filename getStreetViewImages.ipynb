{
 "cells": [
  {
   "cell_type": "code",
   "execution_count": 1,
   "id": "ba8fa40a-34fd-431e-adf3-1f4a8a6201e5",
   "metadata": {},
   "outputs": [],
   "source": [
    "import os\n",
    "import requests\n",
    "from io import BytesIO\n",
    "from PIL import Image\n",
    "from api_key import API_KEY"
   ]
  },
  {
   "cell_type": "code",
   "execution_count": 2,
   "id": "24b4b386-628f-43b9-b3ea-43f35c090f1f",
   "metadata": {},
   "outputs": [],
   "source": [
    "def get_streetview_images(latitude, longitude, output_directory='images', angles=[0, 90, 180, 270]):\n",
    "    base_url = \"https://maps.googleapis.com/maps/api/streetview\"\n",
    "    \n",
    "    if not os.path.exists(output_directory):\n",
    "        os.makedirs(output_directory)\n",
    "    \n",
    "    image_list = []\n",
    "    \n",
    "    for angle in angles:\n",
    "        params = {\n",
    "            'size': '600x600',\n",
    "            'location': f'{latitude},{longitude}',\n",
    "            'heading': angle,\n",
    "            'key': API_KEY\n",
    "        }\n",
    "        \n",
    "        response = requests.get(base_url, params=params)\n",
    "        \n",
    "        if response.status_code == 200:\n",
    "            image = Image.open(BytesIO(response.content))\n",
    "            image_list.append(image)\n",
    "            \n",
    "            output_file = os.path.join(output_directory, f'{latitude}_{longitude}_{angle}.jpg')\n",
    "            image.save(output_file)\n",
    "            \n",
    "            print(f'Image saved as: {output_file}')\n",
    "        else:\n",
    "            print(f'Error retriving angle {angle}. Status {response.status_code}')\n",
    "    \n",
    "    return image_list"
   ]
  },
  {
   "cell_type": "code",
   "execution_count": 3,
   "id": "f5a0d5b2-fd67-4a54-ba3e-43463ec5e11f",
   "metadata": {},
   "outputs": [],
   "source": [
    "#get_streetview_images(-16.7302267, -47.8860483)"
   ]
  }
 ],
 "metadata": {
  "kernelspec": {
   "display_name": "Python 3 (ipykernel)",
   "language": "python",
   "name": "python3"
  },
  "language_info": {
   "codemirror_mode": {
    "name": "ipython",
    "version": 3
   },
   "file_extension": ".py",
   "mimetype": "text/x-python",
   "name": "python",
   "nbconvert_exporter": "python",
   "pygments_lexer": "ipython3",
   "version": "3.9.13"
  }
 },
 "nbformat": 4,
 "nbformat_minor": 5
}
