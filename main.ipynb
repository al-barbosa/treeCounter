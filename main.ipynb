{
 "cells": [
  {
   "cell_type": "code",
   "execution_count": 24,
   "id": "78776f8a-b429-4576-9ac1-b2452ba5b630",
   "metadata": {},
   "outputs": [],
   "source": [
    "%run zipToCoordinate.ipynb\n",
    "%run getStreetViewImages.ipynb"
   ]
  },
  {
   "cell_type": "code",
   "execution_count": 30,
   "id": "0f0b75da-21f5-4d4c-8d5b-64afc6f84cd9",
   "metadata": {},
   "outputs": [],
   "source": [
    "from api_key import API_KEY"
   ]
  },
  {
   "cell_type": "code",
   "execution_count": 31,
   "id": "515c0452-980b-4df0-89b2-4cc6b2a7c90c",
   "metadata": {},
   "outputs": [],
   "source": [
    "cep = '39401284'"
   ]
  },
  {
   "cell_type": "code",
   "execution_count": 32,
   "id": "8908cdd1-db01-4e7a-b9b2-2e37affcea07",
   "metadata": {},
   "outputs": [
    {
     "name": "stdout",
     "output_type": "stream",
     "text": [
      "Coordinates for CEP 39401284: (-16.7302267, -43.8860483)\n"
     ]
    }
   ],
   "source": [
    "coordinates = zip_to_coordinates(cep, API_KEY)\n",
    "if coordinates:\n",
    "    print(f'Coordinates for CEP {cep}: {coordinates}')\n",
    "else:\n",
    "    print(f'Could not retrive coordinates for CEP: {cep}')"
   ]
  },
  {
   "cell_type": "code",
   "execution_count": null,
   "id": "50bc2e21-75bd-46d4-86a7-3fc78b6b9538",
   "metadata": {},
   "outputs": [],
   "source": []
  },
  {
   "cell_type": "code",
   "execution_count": null,
   "id": "b488f729-b6cf-43af-860f-3347ebcb3e44",
   "metadata": {},
   "outputs": [],
   "source": []
  }
 ],
 "metadata": {
  "kernelspec": {
   "display_name": "Python 3 (ipykernel)",
   "language": "python",
   "name": "python3"
  },
  "language_info": {
   "codemirror_mode": {
    "name": "ipython",
    "version": 3
   },
   "file_extension": ".py",
   "mimetype": "text/x-python",
   "name": "python",
   "nbconvert_exporter": "python",
   "pygments_lexer": "ipython3",
   "version": "3.9.13"
  }
 },
 "nbformat": 4,
 "nbformat_minor": 5
}
